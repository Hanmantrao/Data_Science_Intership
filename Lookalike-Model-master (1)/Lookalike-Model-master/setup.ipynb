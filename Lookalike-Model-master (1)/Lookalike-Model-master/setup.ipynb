{
 "cells": [
  {
   "cell_type": "markdown",
   "metadata": {},
   "source": [
    "### Required Libraries\n",
    "Install the following libraries. Ensure that all libraries below can be properly imported without error. If any library is missing, search for installation guide and documentation if necessary."
   ]
  },
  {
   "cell_type": "code",
   "execution_count": 1,
   "metadata": {},
   "outputs": [],
   "source": [
    "import os\n",
    "import math\n",
    "import scipy\n",
    "import timeit\n",
    "import numpy as np\n",
    "import pandas as pd\n",
    "from scipy import stats\n",
    "import psycopg2\n",
    "from sqlalchemy import create_engine"
   ]
  },
  {
   "cell_type": "markdown",
   "metadata": {},
   "source": [
    "### Load Feature Codes\n",
    "Download the list of 1805 features, codes, categories and save as a csv file. The feature code table explains what product category a feature is concerned with, what it means, and how it is encoded. Note that it does not contain the actual values of features.\n",
    "* Time: ~ 1 m 30 s\n",
    "* Storage: ~ 85 KB\n",
    "* File created: data/feature_code.csv"
   ]
  },
  {
   "cell_type": "code",
   "execution_count": 2,
   "metadata": {},
   "outputs": [
    {
     "name": "stdout",
     "output_type": "stream",
     "text": [
      "Feature codes file exists: data/feature_code.csv. No need to download.\n"
     ]
    }
   ],
   "source": [
    "%run -i 'load_feature_codes.py'"
   ]
  },
  {
   "cell_type": "markdown",
   "metadata": {},
   "source": [
    "### Load Features\n",
    "Download the entire sb_marketing.sl_lookalike_features_final table onto a local computer. The result is saved to 106 csv files, one for each categories (105 categories, with 1 across all categories). This enables the lookalike model to be run on a single CPU machine, and is the only method currently available.\n",
    "* Time: approx. 3~5 hours\n",
    "* Storage: ~ 12.5 GB\n",
    "* Files created: data/001_Accessory - Bag.csv, data/002_Accessory - Other Accessory.csv..."
   ]
  },
  {
   "cell_type": "code",
   "execution_count": 3,
   "metadata": {},
   "outputs": [
    {
     "name": "stdout",
     "output_type": "stream",
     "text": [
      "Features downloaded: 2 m 58.492 s                                                                      \n"
     ]
    }
   ],
   "source": [
    "%run -i 'load_features.py'"
   ]
  },
  {
   "cell_type": "markdown",
   "metadata": {},
   "source": [
    "### Load Population Sample Features\n",
    "The lookalike model compares every feature between the source audience and the population to determine the feature's importance score. However, it is costly and unnecesssary to compare to the entire population (11 million). Instead, randomly select a sample to represent the population.\n",
    "\n",
    "Choose the popuation sample size to be comparable to the size of source audience, which is expected to fall within the range of 5~50k for optimal performance. In the code below, sample size is chosen as 10k. You may modify the sample size in the load_population_sample.py file."
   ]
  },
  {
   "cell_type": "code",
   "execution_count": 4,
   "metadata": {},
   "outputs": [
    {
     "name": "stdout",
     "output_type": "stream",
     "text": [
      "Population sample member_srl file saved: data/population_sample_srls.csv\n",
      "Downloading features from Redshift. Progress 100.00 %. Category: all                                                              \n",
      "Population sample feature file saved: data/population_sample_features.csv\n"
     ]
    }
   ],
   "source": [
    "%run -i 'load_population_sample.py'"
   ]
  }
 ],
 "metadata": {
  "kernelspec": {
   "display_name": "Python 3",
   "language": "python",
   "name": "python3"
  },
  "language_info": {
   "codemirror_mode": {
    "name": "ipython",
    "version": 3
   },
   "file_extension": ".py",
   "mimetype": "text/x-python",
   "name": "python",
   "nbconvert_exporter": "python",
   "pygments_lexer": "ipython3",
   "version": "3.6.5"
  }
 },
 "nbformat": 4,
 "nbformat_minor": 2
}
